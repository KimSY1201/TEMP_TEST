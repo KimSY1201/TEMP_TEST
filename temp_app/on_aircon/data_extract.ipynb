{
 "cells": [
  {
   "cell_type": "markdown",
   "id": "b8b62253",
   "metadata": {},
   "source": [
    "데이터 정제 - 에어컨 환경\n",
    "1. 없음\n",
    "2. 사람 1\n",
    "3. 사람 2\n",
    "4. 히터 1"
   ]
  },
  {
   "cell_type": "code",
   "execution_count": 3,
   "id": "4a5978a5",
   "metadata": {},
   "outputs": [],
   "source": [
    "import pandas as pd\n",
    "import os"
   ]
  },
  {
   "cell_type": "code",
   "execution_count": 10,
   "id": "6736e28a",
   "metadata": {},
   "outputs": [
    {
     "name": "stdout",
     "output_type": "stream",
     "text": [
      "['thermal_data_heater.csv', 'thermal_data_human_one.csv', 'thermal_data_human_two.csv', 'thermal_data_none.csv']\n"
     ]
    }
   ],
   "source": [
    "csvlist = [x for x in os.listdir('.') if x.endswith('.csv')]\n",
    "print(csvlist)"
   ]
  },
  {
   "cell_type": "code",
   "execution_count": 23,
   "id": "06ceda03",
   "metadata": {},
   "outputs": [
    {
     "name": "stdout",
     "output_type": "stream",
     "text": [
      "packet_id\n",
      "1    heater\n",
      "2    heater\n",
      "3    heater\n",
      "4    heater\n",
      "5    heater\n",
      "Name: staus, dtype: object\n",
      "packet_id\n",
      "1    human1\n",
      "2    human1\n",
      "3    human1\n",
      "4    human1\n",
      "5    human1\n",
      "Name: staus, dtype: object\n",
      "packet_id\n",
      "8     human2\n",
      "9     human2\n",
      "10    human2\n",
      "11    human2\n",
      "12    human2\n",
      "Name: staus, dtype: object\n",
      "packet_id\n",
      "1    None\n",
      "2    None\n",
      "3    None\n",
      "4    None\n",
      "5    None\n",
      "Name: staus, dtype: object\n"
     ]
    }
   ],
   "source": [
    "hedf = pd.DataFrame(pd.read_csv(f'./{csvlist[0]}', index_col=1, header=0))\n",
    "hudf = pd.DataFrame(pd.read_csv(f'./{csvlist[1]}', index_col=1, header=0))\n",
    "hsdf = pd.DataFrame(pd.read_csv(f'./{csvlist[2]}', index_col=1, header=0))\n",
    "nodf = pd.DataFrame(pd.read_csv(f'./{csvlist[3]}', index_col=1, header=0))\n",
    "dflist = [hedf, hudf, hsdf, nodf]\n",
    "stlist = ['heater', 'human1', 'human2', 'None']\n",
    "for x, y in zip(dflist, stlist):\n",
    "    x['staus'] = y\n",
    "for x in dflist:\n",
    "    print(x['staus'].head())"
   ]
  },
  {
   "cell_type": "code",
   "execution_count": null,
   "id": "dd761e2f",
   "metadata": {},
   "outputs": [],
   "source": []
  }
 ],
 "metadata": {
  "kernelspec": {
   "display_name": "test310",
   "language": "python",
   "name": "python3"
  },
  "language_info": {
   "codemirror_mode": {
    "name": "ipython",
    "version": 3
   },
   "file_extension": ".py",
   "mimetype": "text/x-python",
   "name": "python",
   "nbconvert_exporter": "python",
   "pygments_lexer": "ipython3",
   "version": "3.10.18"
  }
 },
 "nbformat": 4,
 "nbformat_minor": 5
}
