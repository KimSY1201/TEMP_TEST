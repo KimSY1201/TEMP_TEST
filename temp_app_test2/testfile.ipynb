{
 "cells": [
  {
   "cell_type": "code",
   "execution_count": null,
   "id": "fdf348b4",
   "metadata": {},
   "outputs": [
    {
     "name": "stdout",
     "output_type": "stream",
     "text": [
      "c:\\Users\\Administrator\\dev_base\\TEMP_TEST\\temp_app_test2\n"
     ]
    }
   ],
   "source": [
    "import os\n",
    "\n",
    "print(os.getcwd())b"
   ]
  },
  {
   "cell_type": "code",
   "execution_count": null,
   "id": "2863d84a",
   "metadata": {},
   "outputs": [
    {
     "name": "stdout",
     "output_type": "stream",
     "text": [
      "f 30\n"
     ]
    },
    {
     "ename": "NameError",
     "evalue": "name 'np' is not defined",
     "output_type": "error",
     "traceback": [
      "\u001b[1;31m---------------------------------------------------------------------------\u001b[0m",
      "\u001b[1;31mNameError\u001b[0m                                 Traceback (most recent call last)",
      "Cell \u001b[1;32mIn[6], line 12\u001b[0m\n\u001b[0;32m     10\u001b[0m \u001b[38;5;28;01mfor\u001b[39;00m i \u001b[38;5;129;01min\u001b[39;00m \u001b[38;5;28mrange\u001b[39m((\u001b[38;5;241m30\u001b[39m\u001b[38;5;241m/\u001b[39m\u001b[38;5;241m/\u001b[39m\u001b[38;5;241m2\u001b[39m)\u001b[38;5;241m-\u001b[39m\u001b[38;5;241m1\u001b[39m):\n\u001b[0;32m     11\u001b[0m                 \u001b[38;5;28mprint\u001b[39m(\u001b[38;5;124m'\u001b[39m\u001b[38;5;124mf\u001b[39m\u001b[38;5;124m'\u001b[39m,\u001b[38;5;28mlen\u001b[39m(my_deque))\n\u001b[1;32m---> 12\u001b[0m                 frontlist\u001b[38;5;241m.\u001b[39mappend(\u001b[43mnp\u001b[49m\u001b[38;5;241m.\u001b[39msum(my_deque\u001b[38;5;241m.\u001b[39mpopleft() \u001b[38;5;241m>\u001b[39m filter_temp))\n\u001b[0;32m     13\u001b[0m                 \u001b[38;5;28mprint\u001b[39m(\u001b[38;5;124m'\u001b[39m\u001b[38;5;124mb\u001b[39m\u001b[38;5;124m'\u001b[39m,\u001b[38;5;28mlen\u001b[39m(my_deque))\n\u001b[0;32m     14\u001b[0m                 backlist\u001b[38;5;241m.\u001b[39mappend(np\u001b[38;5;241m.\u001b[39msum(my_deque\u001b[38;5;241m.\u001b[39mpop() \u001b[38;5;241m>\u001b[39m filter_temp))\n",
      "\u001b[1;31mNameError\u001b[0m: name 'np' is not defined"
     ]
    }
   ],
   "source": [
    "from collections import deque\n",
    "\n",
    "my_deque = deque([i for i in range(0, 30)])\n",
    "\n",
    "# 오른쪽 끝 데이터 확인\n",
    "last_item = my_deque[-1]\n",
    "frontlist = []\n",
    "backlist = []\n",
    "filter_temp = 25\n",
    "for i in range((30//2)-1):\n",
    "                print('f',len(my_deque))\n",
    "                frontlist.append(my_deque.popleft() > filter_temp)\n",
    "                print('b',len(my_deque))\n",
    "                backlist.append(my_deque.pop() > filter_temp)"
   ]
  },
  {
   "cell_type": "code",
   "execution_count": null,
   "id": "8a169606",
   "metadata": {},
   "outputs": [],
   "source": []
  }
 ],
 "metadata": {
  "kernelspec": {
   "display_name": "test310",
   "language": "python",
   "name": "python3"
  },
  "language_info": {
   "codemirror_mode": {
    "name": "ipython",
    "version": 3
   },
   "file_extension": ".py",
   "mimetype": "text/x-python",
   "name": "python",
   "nbconvert_exporter": "python",
   "pygments_lexer": "ipython3",
   "version": "3.10.18"
  }
 },
 "nbformat": 4,
 "nbformat_minor": 5
}
