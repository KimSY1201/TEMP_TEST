{
 "cells": [
  {
   "cell_type": "code",
   "execution_count": null,
   "id": "fdf348b4",
   "metadata": {},
   "outputs": [
    {
     "name": "stdout",
     "output_type": "stream",
     "text": [
      "c:\\Users\\Administrator\\dev_base\\TEMP_TEST\\temp_app_test2\n"
     ]
    }
   ],
   "source": [
    "import os\n",
    "\n",
    "print(os.getcwd())b"
   ]
  },
  {
   "cell_type": "code",
   "execution_count": 8,
   "id": "2863d84a",
   "metadata": {},
   "outputs": [
    {
     "name": "stdout",
     "output_type": "stream",
     "text": [
      "f 30\n",
      "b 29\n",
      "f 28\n",
      "b 27\n",
      "f 26\n",
      "b 25\n",
      "f 24\n",
      "b 23\n",
      "f 22\n",
      "b 21\n",
      "f 20\n",
      "b 19\n",
      "f 18\n",
      "b 17\n",
      "f 16\n",
      "b 15\n",
      "f 14\n",
      "b 13\n",
      "f 12\n",
      "b 11\n",
      "f 10\n",
      "b 9\n",
      "f 8\n",
      "b 7\n",
      "f 6\n",
      "b 5\n",
      "f 4\n",
      "b 3\n",
      "f 2\n",
      "b 1\n"
     ]
    }
   ],
   "source": [
    "from collections import deque\n",
    "\n",
    "my_deque = deque([i for i in range(0, 30)])\n",
    "\n",
    "# 오른쪽 끝 데이터 확인\n",
    "last_item = my_deque[-1]\n",
    "frontlist = []\n",
    "backlist = []\n",
    "filter_temp = 25\n",
    "for i in range((30//2)):\n",
    "                print('f',len(my_deque))\n",
    "                frontlist.append(my_deque.popleft() > filter_temp)\n",
    "                print('b',len(my_deque))\n",
    "                backlist.append(my_deque.pop() > filter_temp)"
   ]
  },
  {
   "cell_type": "code",
   "execution_count": null,
   "id": "8a169606",
   "metadata": {},
   "outputs": [],
   "source": []
  }
 ],
 "metadata": {
  "kernelspec": {
   "display_name": "test310",
   "language": "python",
   "name": "python3"
  },
  "language_info": {
   "codemirror_mode": {
    "name": "ipython",
    "version": 3
   },
   "file_extension": ".py",
   "mimetype": "text/x-python",
   "name": "python",
   "nbconvert_exporter": "python",
   "pygments_lexer": "ipython3",
   "version": "3.10.18"
  }
 },
 "nbformat": 4,
 "nbformat_minor": 5
}
