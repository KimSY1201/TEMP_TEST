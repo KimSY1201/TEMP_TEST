{
 "cells": [
  {
   "cell_type": "markdown",
   "id": "6a815c76",
   "metadata": {},
   "source": [
    "센서: 8×8 열 적외선 온도 센서 (총 64개 픽셀)\n",
    "\n",
    "픽셀 인덱스: (0, 0) ~ (7, 7)\n",
    "\n",
    "센서 위치:\n",
    "\n",
    "높이: 3.7m\n",
    "\n",
    "평면 상 위치: (0, 7) 방향 (방 우측 상단 모서리)\n",
    "\n",
    "아래쪽으로 45도, 왼쪽으로 45도 기울어 있음\n",
    "\n",
    "센서 감지 거리 (FOV 길이): 7m\n",
    "\n",
    "센서 시야각 (FOV): 90도"
   ]
  },
  {
   "cell_type": "markdown",
   "id": "01c6c59b",
   "metadata": {},
   "source": [
    "회전 행렬 (Rx: 아래로 45도, Ry: 왼쪽으로 45도) 생성\n",
    "\n",
    "각 픽셀의 중앙 방향 벡터 계산\n",
    "\n",
    "해당 방향으로 거리 7m 연장 후, 지면(z=0)과 만나는 지점 계산\n",
    "\n",
    "64개 픽셀에 대해 반복 후, 평면(x, y) 위에 시각화"
   ]
  },
  {
   "cell_type": "code",
   "execution_count": null,
   "id": "ba896354",
   "metadata": {},
   "outputs": [],
   "source": [
    "import numpy as np\n",
    "import matplotlib.pyplot as plt\n",
    "from mpl_toolkits.mplot3d import Axes3D"
   ]
  },
  {
   "cell_type": "code",
   "execution_count": null,
   "id": "b81cd244",
   "metadata": {},
   "outputs": [],
   "source": [
    "# 센서 위치 (예: 높이 1m, 오른쪽 끝 (1, 1, 1))\n",
    "sensor_pos = np.array([3.7, 1.0, 1.0])"
   ]
  },
  {
   "cell_type": "code",
   "execution_count": 2,
   "id": "1a941ab7",
   "metadata": {},
   "outputs": [],
   "source": [
    "def deg2rad(deg):\n",
    "    return deg * np.pi / 180"
   ]
  },
  {
   "cell_type": "code",
   "execution_count": 3,
   "id": "e5db8c6e",
   "metadata": {},
   "outputs": [],
   "source": [
    "# 회전 행렬 정의\n",
    "def get_rotation_matrix(pitch_deg, yaw_deg):\n",
    "    pitch = deg2rad(pitch_deg)\n",
    "    yaw = deg2rad(yaw_deg)\n",
    "\n",
    "    Rx = np.array([\n",
    "        [1, 0, 0],\n",
    "        [0, np.cos(pitch), -np.sin(pitch)],\n",
    "        [0, np.sin(pitch),  np.cos(pitch)]\n",
    "    ])\n",
    "\n",
    "    Rz = np.array([\n",
    "        [np.cos(yaw), -np.sin(yaw), 0],\n",
    "        [np.sin(yaw),  np.cos(yaw), 0],\n",
    "        [0, 0, 1]\n",
    "    ])\n",
    "\n",
    "    return Rz @ Rx"
   ]
  },
  {
   "cell_type": "code",
   "execution_count": 4,
   "id": "bd792608",
   "metadata": {},
   "outputs": [],
   "source": [
    "# 설정\n",
    "pixels = 8\n",
    "fov_per_pixel = 90 / pixels  # 11.25도\n",
    "center = (pixels - 1) / 2\n",
    "\n",
    "rotation_matrix = get_rotation_matrix(pitch_deg=-45, yaw_deg=-45)\n",
    "\n",
    "intersection_points = []\n",
    "labels = []\n",
    "\n",
    "for i in range(pixels):\n",
    "    for j in range(pixels):\n",
    "        x_angle = (j - center) * fov_per_pixel\n",
    "        y_angle = (i - center) * fov_per_pixel\n",
    "\n",
    "        # 기본 방향\n",
    "        direction = np.array([\n",
    "            np.tan(deg2rad(x_angle)),\n",
    "            np.tan(deg2rad(y_angle)),\n",
    "            1.0\n",
    "        ])\n",
    "        direction = direction / np.linalg.norm(direction)\n",
    "\n",
    "        # 회전 적용\n",
    "        dir_rot = rotation_matrix @ direction\n",
    "\n",
    "        # z=0 평면과 교차 계산 (z(t) = dir_rot[2] * t = 0 ⇒ t = 0 if z=0)\n",
    "        # 원점에서 출발한 벡터가 z=0과 만나는 t 계산\n",
    "        if dir_rot[2] <= 0:\n",
    "            # 벡터가 아래를 향할 때만 교차함\n",
    "            t = -0 / dir_rot[2]  # 예외 방지용\n",
    "            t = -1.0 / dir_rot[2]\n",
    "            point = dir_rot * t\n",
    "            intersection_points.append(point)\n",
    "            labels.append(f\"({i},{j})\")"
   ]
  },
  {
   "cell_type": "code",
   "execution_count": 5,
   "id": "a3d3b239",
   "metadata": {},
   "outputs": [
    {
     "data": {
      "image/png": "[encoded data removed]",
      "text/plain": [
       "<Figure size 800x800 with 1 Axes>"
      ]
     },
     "metadata": {},
     "output_type": "display_data"
    }
   ],
   "source": [
    "# 시각화\n",
    "fig = plt.figure(figsize=(8, 8))\n",
    "ax = fig.add_subplot(111)\n",
    "\n",
    "for pt, label in zip(intersection_points, labels):\n",
    "    ax.scatter(pt[0], pt[1], c='r')\n",
    "    ax.text(pt[0], pt[1], label, fontsize=7, color='blue')\n",
    "\n",
    "ax.set_title(\"Sensor Pixel Projection on Ground (z=0)\")\n",
    "ax.set_xlabel(\"X (meters)\")\n",
    "ax.set_ylabel(\"Y (meters)\")\n",
    "ax.set_aspect('equal')\n",
    "plt.grid(True)\n",
    "plt.show()"
   ]
  }
 ],
 "metadata": {
  "kernelspec": {
   "display_name": "PROJECT_1",
   "language": "python",
   "name": "python3"
  },
  "language_info": {
   "codemirror_mode": {
    "name": "ipython",
    "version": 3
   },
   "file_extension": ".py",
   "mimetype": "text/x-python",
   "name": "python",
   "nbconvert_exporter": "python",
   "pygments_lexer": "ipython3",
   "version": "3.10.18"
  }
 },
 "nbformat": 4,
 "nbformat_minor": 5
}
